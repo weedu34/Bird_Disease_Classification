{
 "cells": [
  {
   "cell_type": "code",
   "execution_count": null,
   "id": "82232427",
   "metadata": {},
   "outputs": [],
   "source": [
    "import setuptools\n",
    "\n",
    "with open(\"README.md\", \"r\", encoding=\"utf-8\") as f:\n",
    "    long_description = f.read()\n",
    "\n",
    "\n",
    "__version__ = \"0.0.0\"\n",
    "\n",
    "REPO_NAME = \"Chicken_Disease_Classification\"\n",
    "AUTHOR_USER_NAME = \"weedu34\"\n",
    "SRC_REPO = \"cnnClassifier\"\n",
    "AUTHOR_EMAIL = \"weedu34@gmail.com\"\n",
    "\n",
    "\n",
    "setuptools.setup(\n",
    "    name=SRC_REPO,\n",
    "    version=__version__,\n",
    "    author=AUTHOR_USER_NAME,\n",
    "    author_email=AUTHOR_EMAIL,\n",
    "    description=\"A small python package for CNN app\",\n",
    "    long_description=long_description,\n",
    "    long_description_content=\"text/markdown\",\n",
    "    url=f\"https://github.com/{AUTHOR_USER_NAME}/{REPO_NAME}\",\n",
    "    project_urls={\n",
    "        \"Bug Tracker\": f\"https://github.com/{AUTHOR_USER_NAME}/{REPO_NAME}/issues\",\n",
    "    },\n",
    "    package_dir={\"\": \"src\"},\n",
    "    packages=setuptools.find_packages(where=\"src\")\n",
    ")"
   ]
  }
 ],
 "metadata": {
  "kernelspec": {
   "display_name": "Python 3 (ipykernel)",
   "language": "python",
   "name": "python3"
  },
  "language_info": {
   "codemirror_mode": {
    "name": "ipython",
    "version": 3
   },
   "file_extension": ".py",
   "mimetype": "text/x-python",
   "name": "python",
   "nbconvert_exporter": "python",
   "pygments_lexer": "ipython3",
   "version": "3.9.12"
  }
 },
 "nbformat": 4,
 "nbformat_minor": 5
}
