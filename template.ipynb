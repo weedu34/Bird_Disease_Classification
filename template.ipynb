{
 "cells": [
  {
   "cell_type": "code",
   "execution_count": 1,
   "id": "fb2fef7b",
   "metadata": {},
   "outputs": [],
   "source": [
    "import os\n",
    "from pathlib import Path\n",
    "import logging"
   ]
  },
  {
   "cell_type": "code",
   "execution_count": 2,
   "id": "ed4e96a9",
   "metadata": {},
   "outputs": [],
   "source": [
    "logging.basicConfig(level=logging.INFO, format='[%(asctime)s]: %(message)s:')"
   ]
  },
  {
   "cell_type": "code",
   "execution_count": 3,
   "id": "14d777f8",
   "metadata": {},
   "outputs": [],
   "source": [
    "project_name = 'cnnClassifier'"
   ]
  },
  {
   "cell_type": "code",
   "execution_count": 6,
   "id": "0aef0a72",
   "metadata": {},
   "outputs": [],
   "source": [
    "files = [\n",
    "   \".github/workflows/.gitkeep\",\n",
    "    f\"src/{project_name}/__init__.py\",\n",
    "    f\"src/{project_name}/components/__init__.py\",\n",
    "    f\"src/{project_name}/utils/__init__.py\",\n",
    "    f\"src/{project_name}/config/__init__.py\",\n",
    "    f\"src/{project_name}/config/configuration.py\",\n",
    "    f\"src/{project_name}/pipeline/__init__.py\",\n",
    "    f\"src/{project_name}/entity/__init__.py\",\n",
    "    f\"src/{project_name}/constants/__init__.py\",\n",
    "    \"config/config.yaml\",\n",
    "    \"dvc.yaml\",\n",
    "    \"params.yaml\",\n",
    "    \"requirements.txt\",\n",
    "    \"setup.py\",\n",
    "    \"research/trials.ipynb\",\n",
    "    \"templates/index.html\"\n",
    "]"
   ]
  },
  {
   "cell_type": "code",
   "execution_count": 7,
   "id": "967626b2",
   "metadata": {},
   "outputs": [
    {
     "name": "stderr",
     "output_type": "stream",
     "text": [
      "[2023-08-14 13:48:49,260]: creating directory:.github\\workflows, for the ´file: .gitkeep:\n",
      "[2023-08-14 13:48:49,263]: Creating file:.github\\workflows\\.gitkeep:\n",
      "[2023-08-14 13:48:49,265]: creating directory:src\\cnnClassifier, for the ´file: __init__.py:\n",
      "[2023-08-14 13:48:49,267]: Creating file:src\\cnnClassifier\\__init__.py:\n",
      "[2023-08-14 13:48:49,269]: creating directory:src\\cnnClassifier\\components, for the ´file: __init__.py:\n",
      "[2023-08-14 13:48:49,271]: Creating file:src\\cnnClassifier\\components\\__init__.py:\n",
      "[2023-08-14 13:48:49,272]: creating directory:src\\cnnClassifier\\utils, for the ´file: __init__.py:\n",
      "[2023-08-14 13:48:49,274]: Creating file:src\\cnnClassifier\\utils\\__init__.py:\n",
      "[2023-08-14 13:48:49,276]: creating directory:src\\cnnClassifier\\config, for the ´file: __init__.py:\n",
      "[2023-08-14 13:48:49,277]: Creating file:src\\cnnClassifier\\config\\__init__.py:\n",
      "[2023-08-14 13:48:49,279]: creating directory:src\\cnnClassifier\\config, for the ´file: configuration.py:\n",
      "[2023-08-14 13:48:49,280]: Creating file:src\\cnnClassifier\\config\\configuration.py:\n",
      "[2023-08-14 13:48:49,282]: creating directory:src\\cnnClassifier\\pipeline, for the ´file: __init__.py:\n",
      "[2023-08-14 13:48:49,284]: Creating file:src\\cnnClassifier\\pipeline\\__init__.py:\n",
      "[2023-08-14 13:48:49,285]: creating directory:src\\cnnClassifier\\entity, for the ´file: __init__.py:\n",
      "[2023-08-14 13:48:49,287]: Creating file:src\\cnnClassifier\\entity\\__init__.py:\n",
      "[2023-08-14 13:48:49,289]: creating directory:src\\cnnClassifier\\constants, for the ´file: __init__.py:\n",
      "[2023-08-14 13:48:49,291]: Creating file:src\\cnnClassifier\\constants\\__init__.py:\n",
      "[2023-08-14 13:48:49,292]: creating directory:config, for the ´file: config.yaml:\n",
      "[2023-08-14 13:48:49,294]: Creating file:config\\config.yaml:\n",
      "[2023-08-14 13:48:49,296]: Creating file:dvc.yaml:\n",
      "[2023-08-14 13:48:49,297]: Creating file:params.yaml:\n",
      "[2023-08-14 13:48:49,299]: requirements.txt is already exists:\n",
      "[2023-08-14 13:48:49,300]: Creating file:setup.py:\n",
      "[2023-08-14 13:48:49,301]: creating directory:research, for the ´file: trials.ipynb:\n",
      "[2023-08-14 13:48:49,304]: Creating file:research\\trials.ipynb:\n",
      "[2023-08-14 13:48:49,305]: creating directory:templates, for the ´file: index.html:\n",
      "[2023-08-14 13:48:49,307]: Creating file:templates\\index.html:\n"
     ]
    }
   ],
   "source": [
    "for file_path in files:\n",
    "    filepath = Path(file_path) # for creating path of all files in the files list\n",
    "    file_dir, file_name = os.path.split(filepath)\n",
    "    \n",
    "    if file_dir !=\"\":  # creating file directories of all files in the files list if not exists\n",
    "        os.makedirs(file_dir,exist_ok=True)\n",
    "        logging.info(f\"creating directory:{file_dir}, for the ´file: {file_name}\")\n",
    "        \n",
    "    if (not os.path.exists(filepath)) or (os.path.getsize(filepath)==0):\n",
    "        with open(filepath,\"w\") as f:\n",
    "            pass\n",
    "            logging.info(f\"Creating file:{filepath}\")\n",
    "    else:\n",
    "        logging.info(f\"{file_name} is already exists\")\n",
    "        \n",
    "        "
   ]
  },
  {
   "cell_type": "code",
   "execution_count": 10,
   "id": "ee469d3b",
   "metadata": {},
   "outputs": [
    {
     "ename": "ModuleNotFoundError",
     "evalue": "No module named 'setup.py'; 'setup' is not a package",
     "output_type": "error",
     "traceback": [
      "\u001b[1;31m---------------------------------------------------------------------------\u001b[0m",
      "\u001b[1;31mModuleNotFoundError\u001b[0m                       Traceback (most recent call last)",
      "Input \u001b[1;32mIn [10]\u001b[0m, in \u001b[0;36m<cell line: 2>\u001b[1;34m()\u001b[0m\n\u001b[0;32m      1\u001b[0m \u001b[38;5;66;03m# %load setup.py\u001b[39;00m\n\u001b[1;32m----> 2\u001b[0m \u001b[38;5;28;01mimport\u001b[39;00m \u001b[38;5;21;01msetup\u001b[39;00m\u001b[38;5;21;01m.\u001b[39;00m\u001b[38;5;21;01mpy\u001b[39;00m\n",
      "\u001b[1;31mModuleNotFoundError\u001b[0m: No module named 'setup.py'; 'setup' is not a package"
     ]
    }
   ],
   "source": [
    "# %load setup.py\n",
    "import setup.py"
   ]
  },
  {
   "cell_type": "code",
   "execution_count": null,
   "id": "84659db6",
   "metadata": {},
   "outputs": [],
   "source": []
  }
 ],
 "metadata": {
  "kernelspec": {
   "display_name": "Python 3 (ipykernel)",
   "language": "python",
   "name": "python3"
  },
  "language_info": {
   "codemirror_mode": {
    "name": "ipython",
    "version": 3
   },
   "file_extension": ".py",
   "mimetype": "text/x-python",
   "name": "python",
   "nbconvert_exporter": "python",
   "pygments_lexer": "ipython3",
   "version": "3.9.12"
  }
 },
 "nbformat": 4,
 "nbformat_minor": 5
}
