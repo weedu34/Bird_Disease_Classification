{
 "cells": [
  {
   "cell_type": "code",
   "execution_count": 1,
   "id": "755f1b5f",
   "metadata": {},
   "outputs": [],
   "source": [
    "import os\n",
    "from pathlib import Path\n",
    "import logging"
   ]
  },
  {
   "cell_type": "code",
   "execution_count": 2,
   "id": "84e98809",
   "metadata": {},
   "outputs": [],
   "source": [
    "logging.basicConfig(level=logging.INFO, format='[%(asctime)s]: %(message)s:')"
   ]
  },
  {
   "cell_type": "code",
   "execution_count": 3,
   "id": "510f0924",
   "metadata": {},
   "outputs": [],
   "source": [
    "project_name = 'cnnClassifier'"
   ]
  },
  {
   "cell_type": "code",
   "execution_count": 4,
   "id": "d1ab0b0e",
   "metadata": {},
   "outputs": [],
   "source": [
    "files = [\n",
    "   \".github/workflows/.gitkeep\",\n",
    "    f\"src/{project_name}/__init__.py\",\n",
    "    f\"src/{project_name}/components/__init__.py\",\n",
    "    f\"src/{project_name}/utils/__init__.py\",\n",
    "    f\"src/{project_name}/config/__init__.py\",\n",
    "    f\"src/{project_name}/config/configuration.py\",\n",
    "    f\"src/{project_name}/pipeline/__init__.py\",\n",
    "    f\"src/{project_name}/entity/__init__.py\",\n",
    "    f\"src/{project_name}/constants/__init__.py\",\n",
    "    \"config/config.yaml\",\n",
    "    \"dvc.yaml\",\n",
    "    \"params.yaml\",\n",
    "    \"requirements.txt\",\n",
    "    \"setup.py\",\n",
    "    \"research/trials.ipynb\",\n",
    "]"
   ]
  },
  {
   "cell_type": "code",
   "execution_count": 5,
   "id": "bd9ca78e",
   "metadata": {},
   "outputs": [
    {
     "name": "stderr",
     "output_type": "stream",
     "text": [
      "[2023-08-14 13:32:07,552]: creating directory:.github\\workflows, for the ´file: .gitkeep:\n",
      "[2023-08-14 13:32:07,558]: Creating file:.github\\workflows\\.gitkeep:\n",
      "[2023-08-14 13:32:07,560]: creating directory:src\\cnnClassifier, for the ´file: __init__.py:\n",
      "[2023-08-14 13:32:07,563]: Creating file:src\\cnnClassifier\\__init__.py:\n",
      "[2023-08-14 13:32:07,564]: creating directory:src\\cnnClassifier\\components, for the ´file: __init__.py:\n",
      "[2023-08-14 13:32:07,566]: Creating file:src\\cnnClassifier\\components\\__init__.py:\n",
      "[2023-08-14 13:32:07,567]: creating directory:src\\cnnClassifier\\utils, for the ´file: __init__.py:\n",
      "[2023-08-14 13:32:07,569]: Creating file:src\\cnnClassifier\\utils\\__init__.py:\n",
      "[2023-08-14 13:32:07,570]: creating directory:src\\cnnClassifier\\config, for the ´file: __init__.py:\n",
      "[2023-08-14 13:32:07,571]: Creating file:src\\cnnClassifier\\config\\__init__.py:\n",
      "[2023-08-14 13:32:07,573]: creating directory:src\\cnnClassifier\\config, for the ´file: configuration.py:\n",
      "[2023-08-14 13:32:07,575]: Creating file:src\\cnnClassifier\\config\\configuration.py:\n",
      "[2023-08-14 13:32:07,576]: creating directory:src\\cnnClassifier\\pipeline, for the ´file: __init__.py:\n",
      "[2023-08-14 13:32:07,577]: Creating file:src\\cnnClassifier\\pipeline\\__init__.py:\n",
      "[2023-08-14 13:32:07,579]: creating directory:src\\cnnClassifier\\entity, for the ´file: __init__.py:\n",
      "[2023-08-14 13:32:07,581]: Creating file:src\\cnnClassifier\\entity\\__init__.py:\n",
      "[2023-08-14 13:32:07,582]: creating directory:src\\cnnClassifier\\constants, for the ´file: __init__.py:\n",
      "[2023-08-14 13:32:07,584]: Creating file:src\\cnnClassifier\\constants\\__init__.py:\n",
      "[2023-08-14 13:32:07,585]: creating directory:config, for the ´file: config.yaml:\n",
      "[2023-08-14 13:32:07,587]: Creating file:config\\config.yaml:\n",
      "[2023-08-14 13:32:07,590]: Creating file:dvc.yaml:\n",
      "[2023-08-14 13:32:07,591]: Creating file:params.yaml:\n",
      "[2023-08-14 13:32:07,594]: Creating file:requirements.txt:\n",
      "[2023-08-14 13:32:07,595]: Creating file:setup.py:\n",
      "[2023-08-14 13:32:07,595]: creating directory:research, for the ´file: trials.ipynb:\n",
      "[2023-08-14 13:32:07,600]: Creating file:research\\trials.ipynb:\n"
     ]
    }
   ],
   "source": [
    "for file_path in files:\n",
    "    filepath = Path(file_path) # for creating path of all files in the files list\n",
    "    file_dir, file_name = os.path.split(filepath)\n",
    "    \n",
    "    if file_dir !=\"\":  # creating file directories of all files in the files list if not exists\n",
    "        os.makedirs(file_dir,exist_ok=True)\n",
    "        logging.info(f\"creating directory:{file_dir}, for the ´file: {file_name}\")\n",
    "        \n",
    "    if (not os.path.exists(filepath)) or (os.path.getsize(filepath)==0):\n",
    "        with open(filepath,\"w\") as f:\n",
    "            pass\n",
    "            logging.info(f\"Creating file:{filepath}\")\n",
    "    else:\n",
    "        logging.info(f\"{file_name} is already exists\")\n",
    "        \n",
    "        "
   ]
  },
  {
   "cell_type": "code",
   "execution_count": null,
   "id": "ac060f6c",
   "metadata": {},
   "outputs": [],
   "source": []
  }
 ],
 "metadata": {
  "kernelspec": {
   "display_name": "Python 3 (ipykernel)",
   "language": "python",
   "name": "python3"
  },
  "language_info": {
   "codemirror_mode": {
    "name": "ipython",
    "version": 3
   },
   "file_extension": ".py",
   "mimetype": "text/x-python",
   "name": "python",
   "nbconvert_exporter": "python",
   "pygments_lexer": "ipython3",
   "version": "3.9.12"
  }
 },
 "nbformat": 4,
 "nbformat_minor": 5
}
